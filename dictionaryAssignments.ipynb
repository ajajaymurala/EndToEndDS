{
 "cells": [
  {
   "cell_type": "code",
   "execution_count": 1,
   "metadata": {},
   "outputs": [],
   "source": [
    "comd = {\"apple\": \"250g\", \"sugar\":\"500g\", \"rice\":\"2.5kg\", \"milk\":\"2.5ltr\",\"eggs\":\"1dozen\"}"
   ]
  },
  {
   "cell_type": "code",
   "execution_count": 2,
   "metadata": {},
   "outputs": [
    {
     "data": {
      "text/plain": [
       "{'apple': '250g',\n",
       " 'sugar': '500g',\n",
       " 'rice': '2.5kg',\n",
       " 'milk': '2.5ltr',\n",
       " 'eggs': '1dozen'}"
      ]
     },
     "execution_count": 2,
     "metadata": {},
     "output_type": "execute_result"
    }
   ],
   "source": [
    "comd"
   ]
  },
  {
   "cell_type": "code",
   "execution_count": 7,
   "metadata": {},
   "outputs": [],
   "source": [
    "comd[\"atta\"]=\"1packet\""
   ]
  },
  {
   "cell_type": "code",
   "execution_count": 8,
   "metadata": {},
   "outputs": [
    {
     "data": {
      "text/plain": [
       "{'apple': '250g',\n",
       " 'sugar': '500g',\n",
       " 'rice': '2.5kg',\n",
       " 'milk': '2.5ltr',\n",
       " 'eggs': '1dozen',\n",
       " 'atta': '1packet'}"
      ]
     },
     "execution_count": 8,
     "metadata": {},
     "output_type": "execute_result"
    }
   ],
   "source": [
    "comd"
   ]
  },
  {
   "cell_type": "code",
   "execution_count": 9,
   "metadata": {},
   "outputs": [],
   "source": [
    "comd[\"rice\"]=\"1kg\""
   ]
  },
  {
   "cell_type": "code",
   "execution_count": 10,
   "metadata": {},
   "outputs": [
    {
     "data": {
      "text/plain": [
       "{'apple': '250g',\n",
       " 'sugar': '500g',\n",
       " 'rice': '1kg',\n",
       " 'milk': '2.5ltr',\n",
       " 'eggs': '1dozen',\n",
       " 'atta': '1packet'}"
      ]
     },
     "execution_count": 10,
     "metadata": {},
     "output_type": "execute_result"
    }
   ],
   "source": [
    "comd"
   ]
  },
  {
   "cell_type": "code",
   "execution_count": 11,
   "metadata": {},
   "outputs": [
    {
     "name": "stdout",
     "output_type": "stream",
     "text": [
      "apple\n",
      "sugar\n",
      "rice\n",
      "milk\n",
      "eggs\n",
      "atta\n"
     ]
    }
   ],
   "source": [
    "for x in comd:\n",
    "    print(x)"
   ]
  },
  {
   "cell_type": "code",
   "execution_count": 12,
   "metadata": {},
   "outputs": [
    {
     "name": "stdout",
     "output_type": "stream",
     "text": [
      "('apple', '250g')\n",
      "('sugar', '500g')\n",
      "('rice', '1kg')\n",
      "('milk', '2.5ltr')\n",
      "('eggs', '1dozen')\n",
      "('atta', '1packet')\n"
     ]
    }
   ],
   "source": [
    "for item in comd.items():\n",
    "    print(item)"
   ]
  },
  {
   "cell_type": "code",
   "execution_count": 13,
   "metadata": {},
   "outputs": [
    {
     "name": "stdout",
     "output_type": "stream",
     "text": [
      "apple 250g\n",
      "sugar 500g\n",
      "rice 1kg\n",
      "milk 2.5ltr\n",
      "eggs 1dozen\n",
      "atta 1packet\n"
     ]
    }
   ],
   "source": [
    "for key,value in comd.items():\n",
    "    print(key, value)"
   ]
  },
  {
   "cell_type": "code",
   "execution_count": 14,
   "metadata": {},
   "outputs": [],
   "source": [
    "prices = {\"apple\":220, \"sugar\":43, \"rice\":45, \"milk\":30, \"eggs\":60}"
   ]
  },
  {
   "cell_type": "code",
   "execution_count": 15,
   "metadata": {},
   "outputs": [
    {
     "data": {
      "text/plain": [
       "{'apple': 220, 'sugar': 43, 'rice': 45, 'milk': 30, 'eggs': 60}"
      ]
     },
     "execution_count": 15,
     "metadata": {},
     "output_type": "execute_result"
    }
   ],
   "source": [
    "prices"
   ]
  },
  {
   "cell_type": "code",
   "execution_count": 28,
   "metadata": {},
   "outputs": [],
   "source": [
    "commodities = {\"apple\": 0.25, \"sugar\":0.5, \"rice\":2.5, \"milk\":2.5,\"eggs\":1}"
   ]
  },
  {
   "cell_type": "code",
   "execution_count": 29,
   "metadata": {},
   "outputs": [
    {
     "data": {
      "text/plain": [
       "{'apple': 0.25, 'sugar': 0.5, 'rice': 2.5, 'milk': 2.5, 'eggs': 1}"
      ]
     },
     "execution_count": 29,
     "metadata": {},
     "output_type": "execute_result"
    }
   ],
   "source": [
    "commodities"
   ]
  },
  {
   "cell_type": "code",
   "execution_count": 30,
   "metadata": {},
   "outputs": [],
   "source": [
    "totalcost = 0\n",
    "for key1,value1 in commodities.items():\n",
    "    itemPrice = prices[key1]\n",
    "    totalcost = totalcost+(itemPrice*value1)\n",
    "    \n",
    "            "
   ]
  },
  {
   "cell_type": "code",
   "execution_count": 31,
   "metadata": {},
   "outputs": [
    {
     "data": {
      "text/plain": [
       "324.0"
      ]
     },
     "execution_count": 31,
     "metadata": {},
     "output_type": "execute_result"
    }
   ],
   "source": [
    "totalcost"
   ]
  },
  {
   "cell_type": "markdown",
   "metadata": {},
   "source": [
    "# Questions on List\n"
   ]
  },
  {
   "cell_type": "code",
   "execution_count": 89,
   "metadata": {},
   "outputs": [],
   "source": [
    "AI_companies = [\"amazon\",\"facebook\",\"hisilicon\", \"google\", \"apple\",\"microsoft\", \"sensetime\"]"
   ]
  },
  {
   "cell_type": "code",
   "execution_count": 90,
   "metadata": {},
   "outputs": [
    {
     "data": {
      "text/plain": [
       "['amazon',\n",
       " 'facebook',\n",
       " 'hisilicon',\n",
       " 'google',\n",
       " 'apple',\n",
       " 'microsoft',\n",
       " 'sensetime']"
      ]
     },
     "execution_count": 90,
     "metadata": {},
     "output_type": "execute_result"
    }
   ],
   "source": [
    "AI_companies\n"
   ]
  },
  {
   "cell_type": "code",
   "execution_count": 91,
   "metadata": {},
   "outputs": [],
   "source": [
    "AI_companies.sort(key=str.lower)"
   ]
  },
  {
   "cell_type": "code",
   "execution_count": 92,
   "metadata": {},
   "outputs": [
    {
     "data": {
      "text/plain": [
       "['amazon',\n",
       " 'apple',\n",
       " 'facebook',\n",
       " 'google',\n",
       " 'hisilicon',\n",
       " 'microsoft',\n",
       " 'sensetime']"
      ]
     },
     "execution_count": 92,
     "metadata": {},
     "output_type": "execute_result"
    }
   ],
   "source": [
    "AI_companies"
   ]
  },
  {
   "cell_type": "code",
   "execution_count": 93,
   "metadata": {},
   "outputs": [],
   "source": [
    "newlist = [\"Nvidia\", \"OpenAI\", \"Qualcomm\", \"Reliance\"]"
   ]
  },
  {
   "cell_type": "code",
   "execution_count": 94,
   "metadata": {},
   "outputs": [],
   "source": [
    "AI_companies.extend(newlist)"
   ]
  },
  {
   "cell_type": "code",
   "execution_count": 95,
   "metadata": {},
   "outputs": [
    {
     "data": {
      "text/plain": [
       "['amazon',\n",
       " 'apple',\n",
       " 'facebook',\n",
       " 'google',\n",
       " 'hisilicon',\n",
       " 'microsoft',\n",
       " 'sensetime',\n",
       " 'Nvidia',\n",
       " 'OpenAI',\n",
       " 'Qualcomm',\n",
       " 'Reliance']"
      ]
     },
     "execution_count": 95,
     "metadata": {},
     "output_type": "execute_result"
    }
   ],
   "source": [
    "AI_companies"
   ]
  },
  {
   "cell_type": "code",
   "execution_count": null,
   "metadata": {},
   "outputs": [],
   "source": []
  },
  {
   "cell_type": "code",
   "execution_count": null,
   "metadata": {},
   "outputs": [],
   "source": []
  },
  {
   "cell_type": "code",
   "execution_count": 100,
   "metadata": {},
   "outputs": [
    {
     "name": "stdout",
     "output_type": "stream",
     "text": [
      "amazon\n",
      "apple\n",
      "facebook\n",
      "google\n",
      "hisilicon\n",
      "microsoft\n",
      "sensetime\n",
      "nvidia\n",
      "openai\n",
      "qualcomm\n",
      "reliance\n"
     ]
    }
   ],
   "source": [
    "for comp in AI_companies:\n",
    "    print(comp.lower())"
   ]
  },
  {
   "cell_type": "code",
   "execution_count": 101,
   "metadata": {},
   "outputs": [
    {
     "data": {
      "text/plain": [
       "['amazon',\n",
       " 'apple',\n",
       " 'facebook',\n",
       " 'google',\n",
       " 'hisilicon',\n",
       " 'microsoft',\n",
       " 'sensetime',\n",
       " 'Nvidia',\n",
       " 'OpenAI',\n",
       " 'Qualcomm',\n",
       " 'Reliance']"
      ]
     },
     "execution_count": 101,
     "metadata": {},
     "output_type": "execute_result"
    }
   ],
   "source": [
    "AI_companies"
   ]
  },
  {
   "cell_type": "code",
   "execution_count": 102,
   "metadata": {},
   "outputs": [
    {
     "data": {
      "text/plain": [
       "['amazon',\n",
       " 'apple',\n",
       " 'facebook',\n",
       " 'google',\n",
       " 'hisilicon',\n",
       " 'microsoft',\n",
       " 'sensetime',\n",
       " 'Nvidia',\n",
       " 'OpenAI',\n",
       " 'Qualcomm',\n",
       " 'Reliance',\n",
       " ['Nvidia', 'OpenAI', 'Qualcomm', 'Reliance']]"
      ]
     },
     "execution_count": 102,
     "metadata": {},
     "output_type": "execute_result"
    }
   ],
   "source": [
    "AI_companies1"
   ]
  },
  {
   "cell_type": "code",
   "execution_count": 104,
   "metadata": {},
   "outputs": [],
   "source": [
    "AI_companies.remove(\"Reliance\")"
   ]
  },
  {
   "cell_type": "code",
   "execution_count": 105,
   "metadata": {},
   "outputs": [
    {
     "data": {
      "text/plain": [
       "['amazon',\n",
       " 'apple',\n",
       " 'facebook',\n",
       " 'google',\n",
       " 'hisilicon',\n",
       " 'microsoft',\n",
       " 'sensetime',\n",
       " 'Nvidia',\n",
       " 'OpenAI',\n",
       " 'Qualcomm']"
      ]
     },
     "execution_count": 105,
     "metadata": {},
     "output_type": "execute_result"
    }
   ],
   "source": [
    "AI_companies"
   ]
  },
  {
   "cell_type": "code",
   "execution_count": 106,
   "metadata": {},
   "outputs": [
    {
     "data": {
      "text/plain": [
       "['google', 'hisilicon', 'microsoft']"
      ]
     },
     "execution_count": 106,
     "metadata": {},
     "output_type": "execute_result"
    }
   ],
   "source": [
    "AI_companies[3:6]"
   ]
  },
  {
   "cell_type": "code",
   "execution_count": 111,
   "metadata": {},
   "outputs": [
    {
     "data": {
      "text/plain": [
       "['facebook', 'hisilicon', 'sensetime']"
      ]
     },
     "execution_count": 111,
     "metadata": {},
     "output_type": "execute_result"
    }
   ],
   "source": [
    "AI_companies[2:8:2]"
   ]
  },
  {
   "cell_type": "code",
   "execution_count": 113,
   "metadata": {},
   "outputs": [],
   "source": [
    "newprices = (220, 43, 45, 30, 60)"
   ]
  },
  {
   "cell_type": "code",
   "execution_count": 114,
   "metadata": {},
   "outputs": [
    {
     "data": {
      "text/plain": [
       "(220, 43, 45, 30, 60)"
      ]
     },
     "execution_count": 114,
     "metadata": {},
     "output_type": "execute_result"
    }
   ],
   "source": [
    "newprices"
   ]
  },
  {
   "cell_type": "code",
   "execution_count": 117,
   "metadata": {},
   "outputs": [
    {
     "data": {
      "text/plain": [
       "30"
      ]
     },
     "execution_count": 117,
     "metadata": {},
     "output_type": "execute_result"
    }
   ],
   "source": [
    "min(newprices)"
   ]
  },
  {
   "cell_type": "code",
   "execution_count": 118,
   "metadata": {},
   "outputs": [
    {
     "data": {
      "text/plain": [
       "220"
      ]
     },
     "execution_count": 118,
     "metadata": {},
     "output_type": "execute_result"
    }
   ],
   "source": [
    "max(newprices)"
   ]
  },
  {
   "cell_type": "code",
   "execution_count": 119,
   "metadata": {},
   "outputs": [],
   "source": [
    "AI_companies_t = tuple(AI_companies)"
   ]
  },
  {
   "cell_type": "code",
   "execution_count": 121,
   "metadata": {},
   "outputs": [
    {
     "data": {
      "text/plain": [
       "('amazon',\n",
       " 'apple',\n",
       " 'facebook',\n",
       " 'google',\n",
       " 'hisilicon',\n",
       " 'microsoft',\n",
       " 'sensetime',\n",
       " 'Nvidia',\n",
       " 'OpenAI',\n",
       " 'Qualcomm')"
      ]
     },
     "execution_count": 121,
     "metadata": {},
     "output_type": "execute_result"
    }
   ],
   "source": [
    "AI_companies_t"
   ]
  },
  {
   "cell_type": "code",
   "execution_count": 122,
   "metadata": {},
   "outputs": [
    {
     "data": {
      "text/plain": [
       "(220,\n",
       " 43,\n",
       " 45,\n",
       " 30,\n",
       " 60,\n",
       " 'amazon',\n",
       " 'apple',\n",
       " 'facebook',\n",
       " 'google',\n",
       " 'hisilicon',\n",
       " 'microsoft',\n",
       " 'sensetime',\n",
       " 'Nvidia',\n",
       " 'OpenAI',\n",
       " 'Qualcomm')"
      ]
     },
     "execution_count": 122,
     "metadata": {},
     "output_type": "execute_result"
    }
   ],
   "source": [
    "newprices+AI_companies_t"
   ]
  },
  {
   "cell_type": "code",
   "execution_count": 123,
   "metadata": {},
   "outputs": [
    {
     "data": {
      "text/plain": [
       "5"
      ]
     },
     "execution_count": 123,
     "metadata": {},
     "output_type": "execute_result"
    }
   ],
   "source": [
    "len(newprices)"
   ]
  },
  {
   "cell_type": "code",
   "execution_count": 124,
   "metadata": {},
   "outputs": [
    {
     "data": {
      "text/plain": [
       "10"
      ]
     },
     "execution_count": 124,
     "metadata": {},
     "output_type": "execute_result"
    }
   ],
   "source": [
    "len(AI_companies_t)"
   ]
  },
  {
   "cell_type": "code",
   "execution_count": 125,
   "metadata": {},
   "outputs": [
    {
     "data": {
      "text/plain": [
       "15"
      ]
     },
     "execution_count": 125,
     "metadata": {},
     "output_type": "execute_result"
    }
   ],
   "source": [
    "len(newprices+AI_companies_t)"
   ]
  },
  {
   "cell_type": "code",
   "execution_count": null,
   "metadata": {},
   "outputs": [],
   "source": []
  }
 ],
 "metadata": {
  "kernelspec": {
   "display_name": "Python 3",
   "language": "python",
   "name": "python3"
  },
  "language_info": {
   "codemirror_mode": {
    "name": "ipython",
    "version": 3
   },
   "file_extension": ".py",
   "mimetype": "text/x-python",
   "name": "python",
   "nbconvert_exporter": "python",
   "pygments_lexer": "ipython3",
   "version": "3.7.1"
  }
 },
 "nbformat": 4,
 "nbformat_minor": 2
}

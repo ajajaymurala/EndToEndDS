{
 "cells": [
  {
   "cell_type": "code",
   "execution_count": 1,
   "metadata": {},
   "outputs": [],
   "source": [
    "mystring = \" I am very keen in building up my career in Data Science, but not sure from where to start. If I search the web it throws me thousands of articles, few are relevant others make me confused, again I come around to the same page. Supervised has provided me a good platform to remove all such qualms which were wrangling in my mind\""
   ]
  },
  {
   "cell_type": "code",
   "execution_count": 2,
   "metadata": {},
   "outputs": [
    {
     "data": {
      "text/plain": [
       "' I am very keen in building up my career in Data Science, but not sure from where to start. If I search the web it throws me thousands of articles, few are relevant others make me confused, again I come around to the same page. Supervised has provided me a good platform to remove all such qualms which were wrangling in my mind'"
      ]
     },
     "execution_count": 2,
     "metadata": {},
     "output_type": "execute_result"
    }
   ],
   "source": [
    "mystring\n"
   ]
  },
  {
   "cell_type": "code",
   "execution_count": 3,
   "metadata": {},
   "outputs": [],
   "source": [
    "stringlist = mystring.split(\" \")"
   ]
  },
  {
   "cell_type": "code",
   "execution_count": 4,
   "metadata": {},
   "outputs": [
    {
     "data": {
      "text/plain": [
       "['',\n",
       " 'I',\n",
       " 'am',\n",
       " 'very',\n",
       " 'keen',\n",
       " 'in',\n",
       " 'building',\n",
       " 'up',\n",
       " 'my',\n",
       " 'career',\n",
       " 'in',\n",
       " 'Data',\n",
       " 'Science,',\n",
       " 'but',\n",
       " 'not',\n",
       " 'sure',\n",
       " 'from',\n",
       " 'where',\n",
       " 'to',\n",
       " 'start.',\n",
       " 'If',\n",
       " 'I',\n",
       " 'search',\n",
       " 'the',\n",
       " 'web',\n",
       " 'it',\n",
       " 'throws',\n",
       " 'me',\n",
       " 'thousands',\n",
       " 'of',\n",
       " 'articles,',\n",
       " 'few',\n",
       " 'are',\n",
       " 'relevant',\n",
       " 'others',\n",
       " 'make',\n",
       " 'me',\n",
       " 'confused,',\n",
       " 'again',\n",
       " 'I',\n",
       " 'come',\n",
       " 'around',\n",
       " 'to',\n",
       " 'the',\n",
       " 'same',\n",
       " 'page.',\n",
       " 'Supervised',\n",
       " 'has',\n",
       " 'provided',\n",
       " 'me',\n",
       " 'a',\n",
       " 'good',\n",
       " 'platform',\n",
       " 'to',\n",
       " 'remove',\n",
       " 'all',\n",
       " 'such',\n",
       " 'qualms',\n",
       " 'which',\n",
       " 'were',\n",
       " 'wrangling',\n",
       " 'in',\n",
       " 'my',\n",
       " 'mind']"
      ]
     },
     "execution_count": 4,
     "metadata": {},
     "output_type": "execute_result"
    }
   ],
   "source": [
    "stringlist"
   ]
  },
  {
   "cell_type": "code",
   "execution_count": 5,
   "metadata": {},
   "outputs": [
    {
     "name": "stdout",
     "output_type": "stream",
     "text": [
      "Average is 4 and no of strings are 64\n"
     ]
    }
   ],
   "source": [
    "length = 0\n",
    "number = 0\n",
    "for str in stringlist:\n",
    "    number = number+1\n",
    "    length = length + len(str)\n",
    "\n",
    "average = length/number\n",
    "print(\"Average is %d and no of strings are %d\" %(average, number))"
   ]
  },
  {
   "cell_type": "code",
   "execution_count": 6,
   "metadata": {},
   "outputs": [
    {
     "data": {
      "text/plain": [
       "4.140625"
      ]
     },
     "execution_count": 6,
     "metadata": {},
     "output_type": "execute_result"
    }
   ],
   "source": [
    "average"
   ]
  },
  {
   "cell_type": "markdown",
   "metadata": {},
   "source": [
    "# Lower the text in string"
   ]
  },
  {
   "cell_type": "code",
   "execution_count": 7,
   "metadata": {},
   "outputs": [
    {
     "data": {
      "text/plain": [
       "' i am very keen in building up my career in data science, but not sure from where to start. if i search the web it throws me thousands of articles, few are relevant others make me confused, again i come around to the same page. supervised has provided me a good platform to remove all such qualms which were wrangling in my mind'"
      ]
     },
     "execution_count": 7,
     "metadata": {},
     "output_type": "execute_result"
    }
   ],
   "source": [
    "mystring.lower()"
   ]
  },
  {
   "cell_type": "code",
   "execution_count": 10,
   "metadata": {},
   "outputs": [],
   "source": [
    "punct = \"\"\" !()-{}[]:;,\"\"\""
   ]
  },
  {
   "cell_type": "code",
   "execution_count": 11,
   "metadata": {},
   "outputs": [
    {
     "data": {
      "text/plain": [
       "' !()-{}[]:;,'"
      ]
     },
     "execution_count": 11,
     "metadata": {},
     "output_type": "execute_result"
    }
   ],
   "source": [
    "punct"
   ]
  },
  {
   "cell_type": "code",
   "execution_count": 18,
   "metadata": {},
   "outputs": [
    {
     "name": "stdout",
     "output_type": "stream",
     "text": [
      " I am very keen in building up my career in Data Science, but not sure from where to start. If I search the web it throws me thousands of articles, few are relevant others make me confused, again I come around to the same page. Supervised has provided me a good platform to remove all such qualms which were wrangling in my mind\n"
     ]
    }
   ],
   "source": [
    "newstr = mystring\n",
    "for x in mystring.lower():\n",
    "    if x in punct:\n",
    "        mytstring = mystring.replace(x, \"\")\n",
    "\n",
    "print(mystring)"
   ]
  },
  {
   "cell_type": "code",
   "execution_count": 19,
   "metadata": {},
   "outputs": [],
   "source": [
    "stringParts = newstr.split(\",\")\n",
    "newString = \"\".join(stringParts)"
   ]
  },
  {
   "cell_type": "code",
   "execution_count": 20,
   "metadata": {},
   "outputs": [
    {
     "data": {
      "text/plain": [
       "' I am very keen in building up my career in Data Science but not sure from where to start. If I search the web it throws me thousands of articles few are relevant others make me confused again I come around to the same page. Supervised has provided me a good platform to remove all such qualms which were wrangling in my mind'"
      ]
     },
     "execution_count": 20,
     "metadata": {},
     "output_type": "execute_result"
    }
   ],
   "source": [
    "newString"
   ]
  },
  {
   "cell_type": "code",
   "execution_count": 25,
   "metadata": {},
   "outputs": [
    {
     "name": "stdout",
     "output_type": "stream",
     "text": [
      "None\n"
     ]
    }
   ],
   "source": [
    "import re\n",
    "result = re.search(r\"data science\", newString)\n",
    "print(result)"
   ]
  },
  {
   "cell_type": "code",
   "execution_count": 26,
   "metadata": {},
   "outputs": [
    {
     "name": "stdout",
     "output_type": "stream",
     "text": [
      "<re.Match object; span=(44, 56), match='Data Science'>\n"
     ]
    }
   ],
   "source": [
    "import re\n",
    "result = re.search(r\"Data Science\", newString)\n",
    "print(result)"
   ]
  },
  {
   "cell_type": "code",
   "execution_count": 27,
   "metadata": {},
   "outputs": [],
   "source": [
    "r1 = re.findall(r\"Data Science\", newString)"
   ]
  },
  {
   "cell_type": "code",
   "execution_count": 28,
   "metadata": {},
   "outputs": [
    {
     "data": {
      "text/plain": [
       "['Data Science']"
      ]
     },
     "execution_count": 28,
     "metadata": {},
     "output_type": "execute_result"
    }
   ],
   "source": [
    "r1"
   ]
  },
  {
   "cell_type": "code",
   "execution_count": 30,
   "metadata": {},
   "outputs": [],
   "source": [
    "r2 = re.findall(r\"Dataa Science\", newString)"
   ]
  },
  {
   "cell_type": "code",
   "execution_count": 31,
   "metadata": {},
   "outputs": [
    {
     "data": {
      "text/plain": [
       "[]"
      ]
     },
     "execution_count": 31,
     "metadata": {},
     "output_type": "execute_result"
    }
   ],
   "source": [
    "r2"
   ]
  },
  {
   "cell_type": "code",
   "execution_count": 32,
   "metadata": {},
   "outputs": [
    {
     "data": {
      "text/plain": [
       "['',\n",
       " 'I',\n",
       " 'am',\n",
       " 'very',\n",
       " 'keen',\n",
       " 'in',\n",
       " 'building',\n",
       " 'up',\n",
       " 'my',\n",
       " 'career',\n",
       " 'in',\n",
       " 'Data',\n",
       " 'Science,',\n",
       " 'but',\n",
       " 'not',\n",
       " 'sure',\n",
       " 'from',\n",
       " 'where',\n",
       " 'to',\n",
       " 'start.',\n",
       " 'If',\n",
       " 'I',\n",
       " 'search',\n",
       " 'the',\n",
       " 'web',\n",
       " 'it',\n",
       " 'throws',\n",
       " 'me',\n",
       " 'thousands',\n",
       " 'of',\n",
       " 'articles,',\n",
       " 'few',\n",
       " 'are',\n",
       " 'relevant',\n",
       " 'others',\n",
       " 'make',\n",
       " 'me',\n",
       " 'confused,',\n",
       " 'again',\n",
       " 'I',\n",
       " 'come',\n",
       " 'around',\n",
       " 'to',\n",
       " 'the',\n",
       " 'same',\n",
       " 'page.',\n",
       " 'Supervised',\n",
       " 'has',\n",
       " 'provided',\n",
       " 'me',\n",
       " 'a',\n",
       " 'good',\n",
       " 'platform',\n",
       " 'to',\n",
       " 'remove',\n",
       " 'all',\n",
       " 'such',\n",
       " 'qualms',\n",
       " 'which',\n",
       " 'were',\n",
       " 'wrangling',\n",
       " 'in',\n",
       " 'my',\n",
       " 'mind']"
      ]
     },
     "execution_count": 32,
     "metadata": {},
     "output_type": "execute_result"
    }
   ],
   "source": [
    "stringlist"
   ]
  },
  {
   "cell_type": "code",
   "execution_count": 38,
   "metadata": {},
   "outputs": [
    {
     "name": "stdout",
     "output_type": "stream",
     "text": [
      "Frequency of  come  :  1\n",
      "Frequency of  around  :  1\n",
      "Frequency of  search  :  1\n",
      "Frequency of  am  :  1\n",
      "Frequency of  are  :  1\n",
      "Frequency of  to  :  3\n",
      "Frequency of  from  :  1\n",
      "Frequency of  has  :  1\n",
      "Frequency of  Supervised  :  1\n",
      "Frequency of  thousands  :  1\n",
      "Frequency of  my  :  2\n",
      "Frequency of  few  :  1\n",
      "Frequency of  very  :  1\n",
      "Frequency of  a  :  1\n",
      "Frequency of  start.  :  1\n",
      "Frequency of  career  :  1\n",
      "Frequency of  in  :  3\n",
      "Frequency of  platform  :  1\n",
      "Frequency of  make  :  1\n",
      "Frequency of  If  :  1\n",
      "Frequency of  again  :  1\n",
      "Frequency of  remove  :  1\n",
      "Frequency of  mind  :  1\n",
      "Frequency of  of  :  1\n",
      "Frequency of  the  :  2\n",
      "Frequency of  articles  :  1\n",
      "Frequency of  provided  :  1\n",
      "Frequency of  relevant  :  1\n",
      "Frequency of  but  :  1\n",
      "Frequency of  confused  :  1\n",
      "Frequency of  good  :  1\n",
      "Frequency of  it  :  1\n",
      "Frequency of  sure  :  1\n",
      "Frequency of  others  :  1\n",
      "Frequency of  were  :  1\n",
      "Frequency of  building  :  1\n",
      "Frequency of  keen  :  1\n",
      "Frequency of  qualms  :  1\n",
      "Frequency of  me  :  3\n",
      "Frequency of  I  :  3\n",
      "Frequency of  all  :  1\n",
      "Frequency of  web  :  1\n",
      "Frequency of  throws  :  1\n",
      "Frequency of  wrangling  :  1\n",
      "Frequency of  same  :  1\n",
      "Frequency of  Science  :  1\n",
      "Frequency of  such  :  1\n",
      "Frequency of  where  :  1\n",
      "Frequency of  which  :  1\n",
      "Frequency of  page.  :  1\n",
      "Frequency of  not  :  1\n",
      "Frequency of  Data  :  1\n",
      "Frequency of  up  :  1\n"
     ]
    }
   ],
   "source": [
    "def frequency(string):\n",
    "    str_list = string.split()\n",
    "    uniqueWords = set(str_list)\n",
    "    \n",
    "    for i in uniqueWords:\n",
    "        print(\"Frequency of \", i, \" : \",  str_list.count(i))\n",
    "\n",
    "frequency(newString)\n",
    "        \n",
    "    "
   ]
  },
  {
   "cell_type": "code",
   "execution_count": 40,
   "metadata": {},
   "outputs": [
    {
     "name": "stdout",
     "output_type": "stream",
     "text": [
      "my\n",
      "the\n"
     ]
    }
   ],
   "source": [
    "def duplicate(string):\n",
    "    str_list = string.split()\n",
    "    uniqueWords = set(str_list)\n",
    "    for word in uniqueWords:\n",
    "        if str_list.count(word) == 2:\n",
    "            print(word)\n",
    "\n",
    "duplicate(mystring)"
   ]
  },
  {
   "cell_type": "code",
   "execution_count": 41,
   "metadata": {},
   "outputs": [
    {
     "data": {
      "text/plain": [
       "' I am very keen in building up my career in Data Science, but not sure from where to start. If I search the web it throws me thousands of articles, few are relevant others make me confused, again I come around to the same page. Supervised has provided me a good platform to remove all such qualms which were wrangling in my mind'"
      ]
     },
     "execution_count": 41,
     "metadata": {},
     "output_type": "execute_result"
    }
   ],
   "source": [
    "mystring"
   ]
  },
  {
   "cell_type": "code",
   "execution_count": 43,
   "metadata": {},
   "outputs": [
    {
     "data": {
      "text/plain": [
       "' I am very keen in building up my career in Data Science, but not sure from where to start. If I search the web it throws me thousands of articles, few are relevant others make me confused, again I come around to the same page. Unsupervised has provided me a good platform to remove all such qualms which were wrangling in my mind'"
      ]
     },
     "execution_count": 43,
     "metadata": {},
     "output_type": "execute_result"
    }
   ],
   "source": [
    "mystring.replace(\"Supervised\", \"Unsupervised\")"
   ]
  },
  {
   "cell_type": "code",
   "execution_count": 44,
   "metadata": {},
   "outputs": [
    {
     "data": {
      "text/plain": [
       "[' I am very keen in building up my career in Data Science, but not sure from where to start',\n",
       " ' If I search the web it throws me thousands of articles, few are relevant others make me confused, again I come around to the same page',\n",
       " ' Supervised has provided me a good platform to remove all such qualms which were wrangling in my mind']"
      ]
     },
     "execution_count": 44,
     "metadata": {},
     "output_type": "execute_result"
    }
   ],
   "source": [
    "mystring.split(\".\")"
   ]
  },
  {
   "cell_type": "code",
   "execution_count": 60,
   "metadata": {},
   "outputs": [
    {
     "data": {
      "text/plain": [
       "['',\n",
       " 'I',\n",
       " 'am',\n",
       " 'very',\n",
       " 'keen',\n",
       " 'in',\n",
       " 'building',\n",
       " 'up',\n",
       " 'my',\n",
       " 'career',\n",
       " 'in',\n",
       " 'Data',\n",
       " 'Science,',\n",
       " 'but',\n",
       " 'not',\n",
       " 'sure',\n",
       " 'from',\n",
       " 'where',\n",
       " 'to',\n",
       " 'start.',\n",
       " 'If',\n",
       " 'I',\n",
       " 'search',\n",
       " 'the',\n",
       " 'web',\n",
       " 'it',\n",
       " 'throws',\n",
       " 'me',\n",
       " 'thousands',\n",
       " 'of',\n",
       " 'articles,',\n",
       " 'few',\n",
       " 'are',\n",
       " 'relevant',\n",
       " 'others',\n",
       " 'make',\n",
       " 'me',\n",
       " 'confused,',\n",
       " 'again',\n",
       " 'I',\n",
       " 'come',\n",
       " 'around',\n",
       " 'to',\n",
       " 'the',\n",
       " 'same',\n",
       " 'page.',\n",
       " 'Supervised',\n",
       " 'has',\n",
       " 'provided',\n",
       " 'me',\n",
       " 'a',\n",
       " 'good',\n",
       " 'platform',\n",
       " 'to',\n",
       " 'remove',\n",
       " 'all',\n",
       " 'such',\n",
       " 'qualms',\n",
       " 'which',\n",
       " 'were',\n",
       " 'wrangling',\n",
       " 'in',\n",
       " 'my',\n",
       " 'mind']"
      ]
     },
     "execution_count": 60,
     "metadata": {},
     "output_type": "execute_result"
    }
   ],
   "source": [
    "stringlist"
   ]
  },
  {
   "cell_type": "code",
   "execution_count": 62,
   "metadata": {},
   "outputs": [
    {
     "name": "stdout",
     "output_type": "stream",
     "text": [
      "sure\n",
      "where\n",
      "the\n",
      "me\n",
      "are\n",
      "make\n",
      "me\n",
      "come\n",
      "the\n",
      "same\n",
      "me\n",
      "remove\n",
      "were\n"
     ]
    }
   ],
   "source": [
    "for word in stringlist:\n",
    "    if word.endswith(\"e\"):\n",
    "        print(word)"
   ]
  },
  {
   "cell_type": "code",
   "execution_count": 63,
   "metadata": {},
   "outputs": [
    {
     "data": {
      "text/plain": [
       "22"
      ]
     },
     "execution_count": 63,
     "metadata": {},
     "output_type": "execute_result"
    }
   ],
   "source": [
    "mystring.count(\"a\")"
   ]
  },
  {
   "cell_type": "code",
   "execution_count": null,
   "metadata": {},
   "outputs": [],
   "source": []
  }
 ],
 "metadata": {
  "kernelspec": {
   "display_name": "Python 3",
   "language": "python",
   "name": "python3"
  },
  "language_info": {
   "codemirror_mode": {
    "name": "ipython",
    "version": 3
   },
   "file_extension": ".py",
   "mimetype": "text/x-python",
   "name": "python",
   "nbconvert_exporter": "python",
   "pygments_lexer": "ipython3",
   "version": "3.7.1"
  }
 },
 "nbformat": 4,
 "nbformat_minor": 2
}
